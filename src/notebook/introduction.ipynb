{
 "cells": [
  {
   "cell_type": "markdown",
   "metadata": {
    "collapsed": false
   },
   "source": [
    "# Introduction\n",
    "Welcome to Kotlin notebook, in this environment you can run kotlin code dynamically.\n",
    "\n",
    "## Hello World !\n",
    "Let's start with the famous : \"Hello World\"\n",
    "The last instruction of a cell code will be printed as output"
   ]
  },
  {
   "cell_type": "code",
   "metadata": {
    "collapsed": false
   },
   "source": [
    "val greeting = \"Hello Devoxx France !!\"\n",
    "greeting"
   ],
   "outputs": [],
   "execution_count": null
  },
  {
   "cell_type": "markdown",
   "metadata": {
    "collapsed": false
   },
   "source": [
    "## Notebook Outputs\n",
    "You can use several output formats.\n",
    "\n",
    "### HTML  "
   ]
  },
  {
   "cell_type": "code",
   "metadata": {
    "collapsed": false
   },
   "source": "HTML(\"<h1>Heading from notebook</h1>\")",
   "outputs": [],
   "execution_count": null
  },
  {
   "cell_type": "code",
   "metadata": {
    "collapsed": false
   },
   "source": [
    "import kotlin.random.Random\n",
    "HTML(\"<img src='https://picsum.photos/200' />\")"
   ],
   "outputs": [],
   "execution_count": null
  },
  {
   "cell_type": "markdown",
   "source": "### Latex",
   "metadata": {
    "collapsed": false
   }
  },
  {
   "cell_type": "code",
   "source": [
    "%use lib-ext\n",
    "LATEX(\"F_n = F_{n-1} + F_{n-2}\")"
   ],
   "metadata": {
    "collapsed": false
   },
   "outputs": [],
   "execution_count": null
  },
  {
   "cell_type": "markdown",
   "source": [
    "### Image Output"
   ],
   "metadata": {
    "collapsed": false
   }
  },
  {
   "cell_type": "code",
   "source": [
    "import java.awt.Color\n",
    "import java.awt.Font\n",
    "import java.awt.image.BufferedImage\n",
    "\n",
    "val image = BufferedImage(300,100,BufferedImage.TYPE_INT_ARGB)\n",
    "val g = image.graphics\n",
    "g.color = Color.BLACK\n",
    "g.fillRect(0,0,300,100)\n",
    "g.color = Color.GREEN\n",
    "g.font = Font(\"Arial\",Font.BOLD,30)\n",
    "g.drawString(\"Hello Devoxx !!!\",10, 60)\n",
    "image"
   ],
   "metadata": {
    "collapsed": false
   },
   "outputs": [],
   "execution_count": null
  },
  {
   "cell_type": "markdown",
   "source": [
    "## Dependencies\n",
    "\n",
    "You can use any maven dependencies in your notebook \n",
    "\n",
    "- With `%use` you can use predefined dependencies \n",
    "- With `@file:DependsOn(\"<group>:<artifact>:<version>\")` you can use any maven dependency\n",
    "- With USE block\n",
    "```\n",
    "USE {\n",
    "    dependencies(\"<group>:<artifact>:<version>\")\n",
    "}\n",
    "```"
   ],
   "metadata": {
    "collapsed": false
   }
  },
  {
   "cell_type": "markdown",
   "source": [
    "## DevoxxFR scraping example\n",
    "The following example shows how to scrap Devoxx France 2024 schedule with [jsoup](https://jsoup.org/) and display results in a simple html table."
   ],
   "metadata": {
    "collapsed": false
   }
  },
  {
   "cell_type": "code",
   "source": [
    "%use datetime\n",
    "@file:DependsOn(\"org.jsoup:jsoup:1.17.2\")\n",
    "import org.jsoup.Jsoup\n",
    "\n",
    "data class Talk(val speakers:List<String>,val day:String,val slotTime: String,val sessionName:String){\n",
    "    fun toTableRow():String=\n",
    "        \"\"\"\n",
    "            <tr>\n",
    "            <td>${speakers.joinToString(\"<br />\")}</td>\n",
    "            <td>$day</td>\n",
    "            <td>$slotTime</td>\n",
    "            <td>$sessionName</td>\n",
    "            </tr>\n",
    "        \"\"\".trimIndent()\n",
    "}\n",
    "\n",
    "fun scrapTalks(day:String):List<Talk>{\n",
    "    val schedule = Jsoup.connect(\"https://www.devoxx.fr/schedule/?id=$day\").get()\n",
    "    return schedule.select(\"article.cfp-session\").map {\n",
    "        var speakers = it.select(\"div.cfp-speaker\").textNodes().map { it.text() }\n",
    "        val slot = it.attr(\"data-event-start\")\n",
    "        val sessionName = it.select(\"div.cfp-name\").text()\n",
    "        Talk(speakers,day,slot,sessionName)\n",
    "    }\n",
    "}\n",
    "\n",
    "//Wednesday,Thursday, Friday\n",
    "var talks = scrapTalks(\"Wednesday\") \n",
    "\n",
    "HTML(\"\"\"\n",
    "<h3>Devoxx France Schedule</h3>\n",
    "<table style='text-align:left'>\n",
    "    <thead>\n",
    "        <th>Speaker</th>\n",
    "        <th>Day</th>\n",
    "        <th>Slot</th>\n",
    "        <th>Session</th>\n",
    "    </thead>\n",
    "    <tbody>\n",
    "        ${talks.map { it.toTableRow() }.joinToString(\"\\n\")}\n",
    "    </tbody>\n",
    "</table>\n",
    "\"\"\".trimIndent())\n"
   ],
   "metadata": {
    "collapsed": false
   },
   "outputs": [],
   "execution_count": null
  },
  {
   "cell_type": "code",
   "source": [],
   "metadata": {
    "collapsed": false
   },
   "outputs": [],
   "execution_count": null
  }
 ],
 "metadata": {
  "kernelspec": {
   "display_name": "Kotlin",
   "language": "kotlin",
   "name": "kotlin"
  },
  "language_info": {
   "codemirror_mode": "text/x-kotlin",
   "file_extension": ".kt",
   "mimetype": "text/x-kotlin",
   "name": "kotlin",
   "nbconvert_exporter": "",
   "pygments_lexer": "kotlin",
   "version": "1.9.10"
  }
 },
 "nbformat": 4,
 "nbformat_minor": 4
}
