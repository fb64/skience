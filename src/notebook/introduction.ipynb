{
 "cells": [
  {
   "cell_type": "markdown",
   "metadata": {
    "collapsed": false
   },
   "source": [
    "# Introduction\n",
    "Welcome to Kotlin notebook, in this environment you can run kotlin code dynamically.\n",
    "\n",
    "## Hello World !\n",
    "Let's start with the famous : \"Hello World\"\n",
    "The last instruction of a cell code will be printed as output"
   ]
  },
  {
   "cell_type": "code",
   "metadata": {
    "collapsed": false,
    "ExecuteTime": {
     "end_time": "2024-10-31T21:25:10.449016Z",
     "start_time": "2024-10-31T21:25:10.382382Z"
    }
   },
   "source": [
    "val greeting = \"Hello World!!\"\n",
    "greeting"
   ],
   "outputs": [
    {
     "data": {
      "text/plain": [
       "Hello World!!"
      ]
     },
     "execution_count": 6,
     "metadata": {},
     "output_type": "execute_result"
    }
   ],
   "execution_count": 6
  },
  {
   "cell_type": "markdown",
   "metadata": {
    "collapsed": false
   },
   "source": [
    "## Notebook Outputs\n",
    "You can use several output formats.\n",
    "\n",
    "### HTML  "
   ]
  },
  {
   "cell_type": "code",
   "metadata": {
    "collapsed": false,
    "ExecuteTime": {
     "end_time": "2024-10-31T21:25:10.544784Z",
     "start_time": "2024-10-31T21:25:10.513915Z"
    }
   },
   "source": "HTML(\"<h1>$greeting</h1>\")",
   "outputs": [
    {
     "data": {
      "text/html": [
       "<h1>Hello World!!</h1>"
      ]
     },
     "execution_count": 7,
     "metadata": {},
     "output_type": "execute_result"
    }
   ],
   "execution_count": 7
  },
  {
   "cell_type": "code",
   "metadata": {
    "collapsed": false,
    "ExecuteTime": {
     "end_time": "2024-10-31T21:25:10.570195Z",
     "start_time": "2024-10-31T21:25:10.548787Z"
    }
   },
   "source": "HTML(\"<img src='https://picsum.photos/200' />\")",
   "outputs": [
    {
     "data": {
      "text/html": [
       "<img src='https://picsum.photos/200' />"
      ]
     },
     "execution_count": 8,
     "metadata": {},
     "output_type": "execute_result"
    }
   ],
   "execution_count": 8
  },
  {
   "cell_type": "markdown",
   "source": "### Latex",
   "metadata": {
    "collapsed": false
   }
  },
  {
   "cell_type": "code",
   "source": [
    "%use lib-ext\n",
    "LATEX(\"F_n = F_{n-1} + F_{n-2}\")"
   ],
   "metadata": {
    "collapsed": false,
    "ExecuteTime": {
     "end_time": "2024-10-31T21:25:11.107187Z",
     "start_time": "2024-10-31T21:25:10.574457Z"
    }
   },
   "outputs": [
    {
     "data": {
      "text/html": [
       "<img src=\"data:image/svg+xml;base64,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\"/>"
      ]
     },
     "execution_count": 9,
     "metadata": {},
     "output_type": "execute_result"
    }
   ],
   "execution_count": 9
  },
  {
   "cell_type": "markdown",
   "source": [
    "### Image Output"
   ],
   "metadata": {
    "collapsed": false
   }
  },
  {
   "cell_type": "code",
   "source": [
    "import java.awt.Color\n",
    "import java.awt.Font\n",
    "import java.awt.image.BufferedImage\n",
    "\n",
    "val image = BufferedImage(400,100,BufferedImage.TYPE_INT_ARGB)\n",
    "val g = image.graphics\n",
    "g.color = Color.BLACK\n",
    "g.fillRect(0,0,400,100)\n",
    "g.color = Color.GREEN\n",
    "g.font = Font(\"Arial\",Font.BOLD,30)\n",
    "g.drawString(greeting,10, 60)\n",
    "image"
   ],
   "metadata": {
    "collapsed": false,
    "ExecuteTime": {
     "end_time": "2024-10-31T21:25:11.227917Z",
     "start_time": "2024-10-31T21:25:11.111936Z"
    }
   },
   "outputs": [
    {
     "data": {
      "image/png": "[encoded data removed]",
      "text/plain": [
       "class java.awt.image.BufferedImage: 400x100 px"
      ]
     },
     "execution_count": 10,
     "metadata": {},
     "output_type": "execute_result"
    }
   ],
   "execution_count": 10
  },
  {
   "cell_type": "markdown",
   "source": [
    "## Dependencies\n",
    "\n",
    "You can use any maven dependencies in your notebook \n",
    "\n",
    "- With `%use` you can use predefined dependencies \n",
    "- With `@file:DependsOn(\"<group>:<artifact>:<version>\")` you can use any maven dependency\n",
    "- With USE block\n",
    "```\n",
    "USE {\n",
    "    dependencies(\"<group>:<artifact>:<version>\")\n",
    "}\n",
    "```"
   ],
   "metadata": {
    "collapsed": false
   }
  },
  {
   "cell_type": "markdown",
   "source": [
    "## IMDB scraping example\n",
    "The following example shows how to scrap [IMDB Top movies](https://www.imdb.com/chart/top/) with [jsoup](https://jsoup.org/) and display results in a simple html table."
   ],
   "metadata": {
    "collapsed": false
   }
  },
  {
   "cell_type": "code",
   "source": [
    "@file:DependsOn(\"org.jsoup:jsoup:1.17.2\")\n",
    "\n",
    "data class Movie(val rank:Int, val title:String, val year:Int, val rating:Float){\n",
    "    fun toTableRow():String = \"<tr><td>$rank</td><td>$title</td><td>$year</td><td>$rating</td></tr>\"\n",
    "}\n"
   ],
   "metadata": {
    "collapsed": false,
    "ExecuteTime": {
     "end_time": "2024-10-31T21:25:11.294576Z",
     "start_time": "2024-10-31T21:25:11.235361Z"
    }
   },
   "outputs": [],
   "execution_count": 11
  },
  {
   "cell_type": "code",
   "source": [
    "import org.jsoup.Jsoup\n",
    "\n",
    "val movies = Jsoup.connect(\"https://www.imdb.com/chart/top\").get()\n",
    "    .select(\"li.ipc-metadata-list-summary-item\").map {\n",
    "        val title = it.select(\"h3.ipc-title__text\").text().substringAfter(\". \")\n",
    "        val rank = it.select(\"h3.ipc-title__text\").text().substringBefore(\". \").toInt()\n",
    "        val year = it.select(\"span.cli-title-metadata-item:first-child\").text().toInt()\n",
    "        val rating = it.select(\"span.ipc-rating-star--rating\").text().toFloat()\n",
    "        Movie(rank, title, year, rating)\n",
    "    }\n",
    "\n",
    "HTML(\"\"\"\n",
    "<h3>Top ${movies.size} IMDB movies</h3>\n",
    "<table>\n",
    "    <thead>\n",
    "        <th>Rank</th><th>Title</th><th>Year</th><th>Rating</th>\n",
    "    </thead>\n",
    "    <tbody>\n",
    "        ${movies.map { it.toTableRow() }.joinToString(\"\\n\")}\n",
    "    </tbody>\n",
    "</table>\n",
    "\"\"\".trimIndent())\n"
   ],
   "metadata": {
    "collapsed": false,
    "ExecuteTime": {
     "end_time": "2024-10-31T21:25:12.287553Z",
     "start_time": "2024-10-31T21:25:11.298160Z"
    }
   },
   "outputs": [
    {
     "data": {
      "text/html": [
       "<h3>Top 25 IMDB movies</h3>\n",
       "<table>\n",
       "    <thead>\n",
       "        <th>Rank</th><th>Title</th><th>Year</th><th>Rating</th>\n",
       "    </thead>\n",
       "    <tbody>\n",
       "        <tr><td>1</td><td>Les Évadés</td><td>1994</td><td>9.3</td></tr>\n",
       "<tr><td>2</td><td>Le Parrain</td><td>1972</td><td>9.2</td></tr>\n",
       "<tr><td>3</td><td>The Dark Knight : Le Chevalier noir</td><td>2008</td><td>9.0</td></tr>\n",
       "<tr><td>4</td><td>Le Parrain, 2ᵉ partie</td><td>1974</td><td>9.0</td></tr>\n",
       "<tr><td>5</td><td>12 Hommes en colère</td><td>1957</td><td>9.0</td></tr>\n",
       "<tr><td>6</td><td>Le Seigneur des anneaux : Le Retour du roi</td><td>2003</td><td>9.0</td></tr>\n",
       "<tr><td>7</td><td>La Liste de Schindler</td><td>1993</td><td>9.0</td></tr>\n",
       "<tr><td>8</td><td>Pulp Fiction</td><td>1994</td><td>8.9</td></tr>\n",
       "<tr><td>9</td><td>Le Seigneur des anneaux : La Communauté de l'anneau</td><td>2001</td><td>8.9</td></tr>\n",
       "<tr><td>10</td><td>Le Bon, la Brute et le Truand</td><td>1966</td><td>8.8</td></tr>\n",
       "<tr><td>11</td><td>Forrest Gump</td><td>1994</td><td>8.8</td></tr>\n",
       "<tr><td>12</td><td>Le Seigneur des anneaux : Les Deux Tours</td><td>2002</td><td>8.8</td></tr>\n",
       "<tr><td>13</td><td>Fight Club</td><td>1999</td><td>8.8</td></tr>\n",
       "<tr><td>14</td><td>Inception</td><td>2010</td><td>8.8</td></tr>\n",
       "<tr><td>15</td><td>L'Empire contre-attaque</td><td>1980</td><td>8.7</td></tr>\n",
       "<tr><td>16</td><td>Matrix</td><td>1999</td><td>8.7</td></tr>\n",
       "<tr><td>17</td><td>Les Affranchis</td><td>1990</td><td>8.7</td></tr>\n",
       "<tr><td>18</td><td>Vol au-dessus d'un nid de coucou</td><td>1975</td><td>8.7</td></tr>\n",
       "<tr><td>19</td><td>Interstellar</td><td>2014</td><td>8.7</td></tr>\n",
       "<tr><td>20</td><td>Seven</td><td>1995</td><td>8.6</td></tr>\n",
       "<tr><td>21</td><td>La vie est belle</td><td>1946</td><td>8.6</td></tr>\n",
       "<tr><td>22</td><td>Les 7 Samouraïs</td><td>1954</td><td>8.6</td></tr>\n",
       "<tr><td>23</td><td>Le Silence des agneaux</td><td>1991</td><td>8.6</td></tr>\n",
       "<tr><td>24</td><td>Il faut sauver le soldat Ryan</td><td>1998</td><td>8.6</td></tr>\n",
       "<tr><td>25</td><td>La cité de Dieu</td><td>2002</td><td>8.6</td></tr>\n",
       "    </tbody>\n",
       "</table>"
      ]
     },
     "execution_count": 12,
     "metadata": {},
     "output_type": "execute_result"
    }
   ],
   "execution_count": 12
  },
  {
   "metadata": {
    "ExecuteTime": {
     "end_time": "2024-10-31T21:25:12.293058Z",
     "start_time": "2024-10-31T21:25:12.291765Z"
    }
   },
   "cell_type": "code",
   "source": "",
   "outputs": [],
   "execution_count": null
  }
 ],
 "metadata": {
  "kernelspec": {
   "display_name": "Kotlin",
   "language": "kotlin",
   "name": "kotlin"
  },
  "language_info": {
   "codemirror_mode": "text/x-kotlin",
   "file_extension": ".kt",
   "mimetype": "text/x-kotlin",
   "name": "kotlin",
   "nbconvert_exporter": "",
   "pygments_lexer": "kotlin",
   "version": "1.9.10"
  }
 },
 "nbformat": 4,
 "nbformat_minor": 4
}
