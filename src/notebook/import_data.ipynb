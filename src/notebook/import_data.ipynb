{
 "cells": [
  {
   "cell_type": "markdown",
   "source": [
    "## Download Taxi files\n",
    "environment variable `SKIENCE_DATA_FOLDER` must be defined before launching this notebook."
   ],
   "metadata": {
    "collapsed": false
   }
  },
  {
   "metadata": {},
   "cell_type": "code",
   "source": [
    "val SKIENCE_DATA_FOLDER = System.getenv(\"SKIENCE_DATA_FOLDER\") ?: throw(NullPointerException())\n",
    "val TAXI_DATA_URLS = \"\"\"\n",
    "https://d37ci6vzurychx.cloudfront.net/trip-data/yellow_tripdata_2023-01.parquet\n",
    "https://d37ci6vzurychx.cloudfront.net/trip-data/yellow_tripdata_2023-02.parquet\n",
    "https://d37ci6vzurychx.cloudfront.net/trip-data/yellow_tripdata_2023-03.parquet\n",
    "https://d37ci6vzurychx.cloudfront.net/trip-data/yellow_tripdata_2023-04.parquet\n",
    "https://d37ci6vzurychx.cloudfront.net/trip-data/yellow_tripdata_2023-05.parquet\n",
    "https://d37ci6vzurychx.cloudfront.net/trip-data/yellow_tripdata_2023-06.parquet\n",
    "https://d37ci6vzurychx.cloudfront.net/trip-data/yellow_tripdata_2023-07.parquet\n",
    "https://d37ci6vzurychx.cloudfront.net/trip-data/yellow_tripdata_2023-08.parquet\n",
    "https://d37ci6vzurychx.cloudfront.net/trip-data/yellow_tripdata_2023-09.parquet\n",
    "https://d37ci6vzurychx.cloudfront.net/trip-data/yellow_tripdata_2023-10.parquet\n",
    "https://d37ci6vzurychx.cloudfront.net/trip-data/yellow_tripdata_2023-11.parquet\n",
    "https://d37ci6vzurychx.cloudfront.net/trip-data/yellow_tripdata_2023-12.parquet\n",
    "https://d37ci6vzurychx.cloudfront.net/trip-data/yellow_tripdata_2022-01.parquet\n",
    "https://d37ci6vzurychx.cloudfront.net/trip-data/yellow_tripdata_2022-02.parquet\n",
    "https://d37ci6vzurychx.cloudfront.net/trip-data/yellow_tripdata_2022-02.parquet\n",
    "https://d37ci6vzurychx.cloudfront.net/trip-data/yellow_tripdata_2022-04.parquet\n",
    "https://d37ci6vzurychx.cloudfront.net/trip-data/yellow_tripdata_2022-05.parquet\n",
    "https://d37ci6vzurychx.cloudfront.net/trip-data/yellow_tripdata_2022-06.parquet\n",
    "https://d37ci6vzurychx.cloudfront.net/trip-data/yellow_tripdata_2022-07.parquet\n",
    "https://d37ci6vzurychx.cloudfront.net/trip-data/yellow_tripdata_2022-08.parquet\n",
    "https://d37ci6vzurychx.cloudfront.net/trip-data/yellow_tripdata_2022-09.parquet\n",
    "https://d37ci6vzurychx.cloudfront.net/trip-data/yellow_tripdata_2022-10.parquet\n",
    "https://d37ci6vzurychx.cloudfront.net/trip-data/yellow_tripdata_2022-11.parquet\n",
    "https://d37ci6vzurychx.cloudfront.net/trip-data/yellow_tripdata_2022-12.parquet\n",
    "https://d37ci6vzurychx.cloudfront.net/trip-data/yellow_tripdata_2021-01.parquet\n",
    "https://d37ci6vzurychx.cloudfront.net/trip-data/yellow_tripdata_2021-02.parquet\n",
    "https://d37ci6vzurychx.cloudfront.net/trip-data/yellow_tripdata_2021-02.parquet\n",
    "https://d37ci6vzurychx.cloudfront.net/trip-data/yellow_tripdata_2021-04.parquet\n",
    "https://d37ci6vzurychx.cloudfront.net/trip-data/yellow_tripdata_2021-05.parquet\n",
    "https://d37ci6vzurychx.cloudfront.net/trip-data/yellow_tripdata_2021-06.parquet\n",
    "https://d37ci6vzurychx.cloudfront.net/trip-data/yellow_tripdata_2021-07.parquet\n",
    "https://d37ci6vzurychx.cloudfront.net/trip-data/yellow_tripdata_2021-08.parquet\n",
    "https://d37ci6vzurychx.cloudfront.net/trip-data/yellow_tripdata_2021-09.parquet\n",
    "https://d37ci6vzurychx.cloudfront.net/trip-data/yellow_tripdata_2021-10.parquet\n",
    "https://d37ci6vzurychx.cloudfront.net/trip-data/yellow_tripdata_2021-11.parquet\n",
    "https://d37ci6vzurychx.cloudfront.net/trip-data/yellow_tripdata_2021-12.parquet\n",
    "https://d37ci6vzurychx.cloudfront.net/trip-data/yellow_tripdata_2020-01.parquet\n",
    "https://d37ci6vzurychx.cloudfront.net/trip-data/yellow_tripdata_2020-02.parquet\n",
    "https://d37ci6vzurychx.cloudfront.net/trip-data/yellow_tripdata_2020-02.parquet\n",
    "https://d37ci6vzurychx.cloudfront.net/trip-data/yellow_tripdata_2020-04.parquet\n",
    "https://d37ci6vzurychx.cloudfront.net/trip-data/yellow_tripdata_2020-05.parquet\n",
    "https://d37ci6vzurychx.cloudfront.net/trip-data/yellow_tripdata_2020-06.parquet\n",
    "https://d37ci6vzurychx.cloudfront.net/trip-data/yellow_tripdata_2020-07.parquet\n",
    "https://d37ci6vzurychx.cloudfront.net/trip-data/yellow_tripdata_2020-08.parquet\n",
    "https://d37ci6vzurychx.cloudfront.net/trip-data/yellow_tripdata_2020-09.parquet\n",
    "https://d37ci6vzurychx.cloudfront.net/trip-data/yellow_tripdata_2020-10.parquet\n",
    "https://d37ci6vzurychx.cloudfront.net/trip-data/yellow_tripdata_2020-11.parquet\n",
    "https://d37ci6vzurychx.cloudfront.net/trip-data/yellow_tripdata_2020-12.parquet\n",
    "https://d37ci6vzurychx.cloudfront.net/trip-data/yellow_tripdata_2019-01.parquet\n",
    "https://d37ci6vzurychx.cloudfront.net/trip-data/yellow_tripdata_2019-02.parquet\n",
    "https://d37ci6vzurychx.cloudfront.net/trip-data/yellow_tripdata_2019-02.parquet\n",
    "https://d37ci6vzurychx.cloudfront.net/trip-data/yellow_tripdata_2019-04.parquet\n",
    "https://d37ci6vzurychx.cloudfront.net/trip-data/yellow_tripdata_2019-05.parquet\n",
    "https://d37ci6vzurychx.cloudfront.net/trip-data/yellow_tripdata_2019-06.parquet\n",
    "https://d37ci6vzurychx.cloudfront.net/trip-data/yellow_tripdata_2019-07.parquet\n",
    "https://d37ci6vzurychx.cloudfront.net/trip-data/yellow_tripdata_2019-08.parquet\n",
    "https://d37ci6vzurychx.cloudfront.net/trip-data/yellow_tripdata_2019-09.parquet\n",
    "https://d37ci6vzurychx.cloudfront.net/trip-data/yellow_tripdata_2019-10.parquet\n",
    "https://d37ci6vzurychx.cloudfront.net/trip-data/yellow_tripdata_2019-11.parquet\n",
    "https://d37ci6vzurychx.cloudfront.net/trip-data/yellow_tripdata_2019-12.parquet\n",
    "https://d37ci6vzurychx.cloudfront.net/trip-data/yellow_tripdata_2018-01.parquet\n",
    "https://d37ci6vzurychx.cloudfront.net/trip-data/yellow_tripdata_2018-02.parquet\n",
    "https://d37ci6vzurychx.cloudfront.net/trip-data/yellow_tripdata_2018-02.parquet\n",
    "https://d37ci6vzurychx.cloudfront.net/trip-data/yellow_tripdata_2018-04.parquet\n",
    "https://d37ci6vzurychx.cloudfront.net/trip-data/yellow_tripdata_2018-05.parquet\n",
    "https://d37ci6vzurychx.cloudfront.net/trip-data/yellow_tripdata_2018-06.parquet\n",
    "https://d37ci6vzurychx.cloudfront.net/trip-data/yellow_tripdata_2018-07.parquet\n",
    "https://d37ci6vzurychx.cloudfront.net/trip-data/yellow_tripdata_2018-08.parquet\n",
    "https://d37ci6vzurychx.cloudfront.net/trip-data/yellow_tripdata_2018-09.parquet\n",
    "https://d37ci6vzurychx.cloudfront.net/trip-data/yellow_tripdata_2018-10.parquet\n",
    "https://d37ci6vzurychx.cloudfront.net/trip-data/yellow_tripdata_2018-11.parquet\n",
    "https://d37ci6vzurychx.cloudfront.net/trip-data/yellow_tripdata_2018-12.parquet\n",
    "https://d37ci6vzurychx.cloudfront.net/trip-data/yellow_tripdata_2017-01.parquet\n",
    "https://d37ci6vzurychx.cloudfront.net/trip-data/yellow_tripdata_2017-02.parquet\n",
    "https://d37ci6vzurychx.cloudfront.net/trip-data/yellow_tripdata_2017-02.parquet\n",
    "https://d37ci6vzurychx.cloudfront.net/trip-data/yellow_tripdata_2017-04.parquet\n",
    "https://d37ci6vzurychx.cloudfront.net/trip-data/yellow_tripdata_2017-05.parquet\n",
    "https://d37ci6vzurychx.cloudfront.net/trip-data/yellow_tripdata_2017-06.parquet\n",
    "https://d37ci6vzurychx.cloudfront.net/trip-data/yellow_tripdata_2017-07.parquet\n",
    "https://d37ci6vzurychx.cloudfront.net/trip-data/yellow_tripdata_2017-08.parquet\n",
    "https://d37ci6vzurychx.cloudfront.net/trip-data/yellow_tripdata_2017-09.parquet\n",
    "https://d37ci6vzurychx.cloudfront.net/trip-data/yellow_tripdata_2017-10.parquet\n",
    "https://d37ci6vzurychx.cloudfront.net/trip-data/yellow_tripdata_2017-11.parquet\n",
    "https://d37ci6vzurychx.cloudfront.net/trip-data/yellow_tripdata_2017-12.parquet\n",
    "\"\"\".trimIndent()"
   ],
   "outputs": [],
   "execution_count": null
  },
  {
   "cell_type": "code",
   "source": [
    "%use coroutines\n",
    "\n",
    "import java.net.URL\n",
    "import java.nio.file.Files\n",
    "import java.nio.file.Paths\n",
    "import java.time.LocalDateTime\n",
    "import java.time.Duration\n",
    "import java.util.concurrent.*\n",
    "import kotlin.io.path.*\n",
    "import kotlin.test.assertNotNull\n",
    "\n",
    "assertNotNull(SKIENCE_DATA_FOLDER)\n",
    "val taxiFolder = Path(SKIENCE_DATA_FOLDER,\"taxi\")\n",
    "\n",
    "if(!taxiFolder.exists()){\n",
    "    taxiFolder.createDirectories()\n",
    "}\n",
    "\n",
    "val fileUrls = TAXI_DATA_URLS.lines()\n",
    "val start = LocalDateTime.now()\n",
    "\n",
    "runBlocking {\n",
    "    fileUrls.chunked(12).forEach {\n",
    "        launch(){\n",
    "           it.forEach {url ->\n",
    "               val fileName = url.substringAfterLast('/')\n",
    "               val taxifile = Path(taxiFolder.toString(),fileName)\n",
    "               if (!taxifile.exists()) {\n",
    "                   taxifile.writeBytes(URL(url).readBytes())\n",
    "                   println(\"$fileName downloaded\")\n",
    "               }\n",
    "           }\n",
    "        }\n",
    "    }    \n",
    "}\n",
    "println(\"All files have been downloaded\")"
   ],
   "metadata": {
    "collapsed": true
   },
   "outputs": [],
   "execution_count": null
  },
  {
   "metadata": {},
   "cell_type": "markdown",
   "source": ""
  },
  {
   "cell_type": "markdown",
   "source": "## Import taxi data in DuckDB database",
   "metadata": {
    "collapsed": false
   }
  },
  {
   "metadata": {},
   "cell_type": "code",
   "source": [
    "@file:DependsOn(\"org.duckdb:duckdb_jdbc:1.1.2\")\n",
    "\n",
    "import org.duckdb.DuckDBConnection\n",
    "import java.sql.DriverManager\n",
    "import kotlin.io.path.*\n",
    "\n",
    "val duckDbPath = Path(\"$SKIENCE_DATA_FOLDER/duckdb/notebook.db\")\n",
    "\n",
    "if(!duckDbPath.exists()){\n",
    "    duckDbPath.parent.createDirectories()\n",
    "}\n",
    "\n",
    "Class.forName(\"org.duckdb.DuckDBDriver\")\n",
    "println(\"DuckDB loaded\")"
   ],
   "outputs": [],
   "execution_count": null
  },
  {
   "cell_type": "code",
   "source": [
    "\n",
    "val conn = DriverManager.getConnection(\"jdbc:duckdb:${duckDbPath.toString()}\") as DuckDBConnection\n",
    "conn.use { \n",
    "    it.createStatement().execute(\"CREATE TABLE ny_yellow_taxi as select * from '$SKIENCE_DATA_FOLDER/taxi/*.parquet' \")\n",
    "    it.createStatement().execute(\"CREATE TABLE ny_meteo as select * from '$SKIENCE_DATA_FOLDER/ny_meteo_2017-2023.csv.gz'\")\n",
    "}\n",
    "println(\"Data loaded in DuckDB\")"
   ],
   "metadata": {
    "collapsed": false
   },
   "outputs": [],
   "execution_count": null
  },
  {
   "cell_type": "markdown",
   "source": [
    "## Clean data\n",
    "Some data need to be cleaned (bad date for example)"
   ],
   "metadata": {
    "collapsed": false
   }
  },
  {
   "cell_type": "code",
   "source": [
    "val conn = DriverManager.getConnection(\"jdbc:duckdb:${duckDbPath.toString()}\") as DuckDBConnection\n",
    "val cleanQuery = \"\"\"\n",
    "delete from ny_yellow_taxi where datepart('year',tpep_pickup_datetime) < 2017 or datepart('year',tpep_pickup_datetime) > 2023\n",
    "\"\"\"\n",
    "conn.use { \n",
    "    it.createStatement().execute(cleanQuery)\n",
    "}\n",
    "println(\"Taxi data cleaned\")"
   ],
   "metadata": {
    "collapsed": false
   },
   "outputs": [],
   "execution_count": null
  }
 ],
 "metadata": {
  "kernelspec": {
   "display_name": "Kotlin",
   "language": "kotlin",
   "name": "kotlin"
  },
  "language_info": {
   "name": "kotlin",
   "version": "1.9.0",
   "mimetype": "text/x-kotlin",
   "file_extension": ".kt",
   "pygments_lexer": "kotlin",
   "codemirror_mode": "text/x-kotlin",
   "nbconvert_exporter": ""
  }
 },
 "nbformat": 4,
 "nbformat_minor": 0
}
